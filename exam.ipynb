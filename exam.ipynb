{
 "cells": [
  {
   "cell_type": "markdown",
   "id": "b328961a",
   "metadata": {},
   "source": [
    "# Projets de prédiction du diabéte avec le machine learning supervisé"
   ]
  },
  {
   "cell_type": "markdown",
   "id": "eac65160-f9b8-4704-a74f-6fcb337e6d59",
   "metadata": {},
   "source": [
    "## 1. Chargement des données"
   ]
  },
  {
   "cell_type": "code",
   "execution_count": 6,
   "id": "886f7ba2",
   "metadata": {},
   "outputs": [],
   "source": [
    "# Importation des packages\n",
    "import numpy as np\n",
    "import pandas as pd \n",
    "import os\n",
    "import seaborn as sns\n",
    "import matplotlib.pyplot as plt\n",
    "\n"
   ]
  },
  {
   "cell_type": "code",
   "execution_count": 7,
   "id": "74cfbfa3",
   "metadata": {},
   "outputs": [
    {
     "data": {
      "text/plain": [
       "\"/Users/bintoudiop/Documents/Dossier d'école/Formation data analytics/Introduction python/projet oython/Application\""
      ]
     },
     "execution_count": 7,
     "metadata": {},
     "output_type": "execute_result"
    }
   ],
   "source": [
    "#getting the path to the dataset\n",
    "os.getcwd()"
   ]
  },
  {
   "cell_type": "markdown",
   "id": "82ae377c",
   "metadata": {},
   "source": [
    "import dataframe .csv format"
   ]
  },
  {
   "cell_type": "code",
   "execution_count": 8,
   "id": "9c581d04",
   "metadata": {},
   "outputs": [
    {
     "data": {
      "text/html": [
       "<div>\n",
       "<style scoped>\n",
       "    .dataframe tbody tr th:only-of-type {\n",
       "        vertical-align: middle;\n",
       "    }\n",
       "\n",
       "    .dataframe tbody tr th {\n",
       "        vertical-align: top;\n",
       "    }\n",
       "\n",
       "    .dataframe thead th {\n",
       "        text-align: right;\n",
       "    }\n",
       "</style>\n",
       "<table border=\"1\" class=\"dataframe\">\n",
       "  <thead>\n",
       "    <tr style=\"text-align: right;\">\n",
       "      <th></th>\n",
       "      <th>Pregnancies</th>\n",
       "      <th>Glucose</th>\n",
       "      <th>BloodPressure</th>\n",
       "      <th>SkinThickness</th>\n",
       "      <th>Insulin</th>\n",
       "      <th>BMI</th>\n",
       "      <th>DiabetesPedigreeFunction</th>\n",
       "      <th>Age</th>\n",
       "      <th>Outcome</th>\n",
       "    </tr>\n",
       "  </thead>\n",
       "  <tbody>\n",
       "    <tr>\n",
       "      <th>0</th>\n",
       "      <td>6</td>\n",
       "      <td>148</td>\n",
       "      <td>72</td>\n",
       "      <td>35</td>\n",
       "      <td>0</td>\n",
       "      <td>33.6</td>\n",
       "      <td>0.627</td>\n",
       "      <td>50</td>\n",
       "      <td>1</td>\n",
       "    </tr>\n",
       "    <tr>\n",
       "      <th>1</th>\n",
       "      <td>1</td>\n",
       "      <td>85</td>\n",
       "      <td>66</td>\n",
       "      <td>29</td>\n",
       "      <td>0</td>\n",
       "      <td>26.6</td>\n",
       "      <td>0.351</td>\n",
       "      <td>31</td>\n",
       "      <td>0</td>\n",
       "    </tr>\n",
       "    <tr>\n",
       "      <th>2</th>\n",
       "      <td>8</td>\n",
       "      <td>183</td>\n",
       "      <td>64</td>\n",
       "      <td>0</td>\n",
       "      <td>0</td>\n",
       "      <td>23.3</td>\n",
       "      <td>0.672</td>\n",
       "      <td>32</td>\n",
       "      <td>1</td>\n",
       "    </tr>\n",
       "    <tr>\n",
       "      <th>3</th>\n",
       "      <td>1</td>\n",
       "      <td>89</td>\n",
       "      <td>66</td>\n",
       "      <td>23</td>\n",
       "      <td>94</td>\n",
       "      <td>28.1</td>\n",
       "      <td>0.167</td>\n",
       "      <td>21</td>\n",
       "      <td>0</td>\n",
       "    </tr>\n",
       "    <tr>\n",
       "      <th>4</th>\n",
       "      <td>0</td>\n",
       "      <td>137</td>\n",
       "      <td>40</td>\n",
       "      <td>35</td>\n",
       "      <td>168</td>\n",
       "      <td>43.1</td>\n",
       "      <td>2.288</td>\n",
       "      <td>33</td>\n",
       "      <td>1</td>\n",
       "    </tr>\n",
       "  </tbody>\n",
       "</table>\n",
       "</div>"
      ],
      "text/plain": [
       "   Pregnancies  Glucose  BloodPressure  SkinThickness  Insulin   BMI  \\\n",
       "0            6      148             72             35        0  33.6   \n",
       "1            1       85             66             29        0  26.6   \n",
       "2            8      183             64              0        0  23.3   \n",
       "3            1       89             66             23       94  28.1   \n",
       "4            0      137             40             35      168  43.1   \n",
       "\n",
       "   DiabetesPedigreeFunction  Age  Outcome  \n",
       "0                     0.627   50        1  \n",
       "1                     0.351   31        0  \n",
       "2                     0.672   32        1  \n",
       "3                     0.167   21        0  \n",
       "4                     2.288   33        1  "
      ]
     },
     "execution_count": 8,
     "metadata": {},
     "output_type": "execute_result"
    }
   ],
   "source": [
    "df =  pd.read_csv(\"/Users/bintoudiop/Documents/Dossier d'école/Formation data analytics/Introduction python/projet oython/Application/diabetes.csv\")\n",
    "df.head() # affiche les 5 premiers valeurs"
   ]
  },
  {
   "cell_type": "markdown",
   "id": "665a077d-e65f-4231-91c3-94f2df3013d5",
   "metadata": {},
   "source": [
    "Pregnancies : Nombre de grossesses; \n",
    "DiabetesPredigreeFunction : Antécédents familiaux de diabète; \n",
    "outcome : 0 = pas de diabète, 1 = diabète"
   ]
  },
  {
   "cell_type": "code",
   "execution_count": 9,
   "id": "29562a6a-dc62-43be-97cc-2949c1b8bdd9",
   "metadata": {},
   "outputs": [
    {
     "name": "stdout",
     "output_type": "stream",
     "text": [
      "Informations générales sur les colonnes :\n",
      "<class 'pandas.core.frame.DataFrame'>\n",
      "RangeIndex: 768 entries, 0 to 767\n",
      "Data columns (total 9 columns):\n",
      " #   Column                    Non-Null Count  Dtype  \n",
      "---  ------                    --------------  -----  \n",
      " 0   Pregnancies               768 non-null    int64  \n",
      " 1   Glucose                   768 non-null    int64  \n",
      " 2   BloodPressure             768 non-null    int64  \n",
      " 3   SkinThickness             768 non-null    int64  \n",
      " 4   Insulin                   768 non-null    int64  \n",
      " 5   BMI                       768 non-null    float64\n",
      " 6   DiabetesPedigreeFunction  768 non-null    float64\n",
      " 7   Age                       768 non-null    int64  \n",
      " 8   Outcome                   768 non-null    int64  \n",
      "dtypes: float64(2), int64(7)\n",
      "memory usage: 54.1 KB\n"
     ]
    }
   ],
   "source": [
    "print(\"Informations générales sur les colonnes :\")\n",
    "df.info() # # Afficher des informations générales sur les colonnes"
   ]
  },
  {
   "cell_type": "code",
   "execution_count": 10,
   "id": "b8e0aafa",
   "metadata": {
    "scrolled": true
   },
   "outputs": [
    {
     "data": {
      "text/html": [
       "<div>\n",
       "<style scoped>\n",
       "    .dataframe tbody tr th:only-of-type {\n",
       "        vertical-align: middle;\n",
       "    }\n",
       "\n",
       "    .dataframe tbody tr th {\n",
       "        vertical-align: top;\n",
       "    }\n",
       "\n",
       "    .dataframe thead th {\n",
       "        text-align: right;\n",
       "    }\n",
       "</style>\n",
       "<table border=\"1\" class=\"dataframe\">\n",
       "  <thead>\n",
       "    <tr style=\"text-align: right;\">\n",
       "      <th></th>\n",
       "      <th>Pregnancies</th>\n",
       "      <th>Glucose</th>\n",
       "      <th>BloodPressure</th>\n",
       "      <th>SkinThickness</th>\n",
       "      <th>Insulin</th>\n",
       "      <th>BMI</th>\n",
       "      <th>DiabetesPedigreeFunction</th>\n",
       "      <th>Age</th>\n",
       "      <th>Outcome</th>\n",
       "    </tr>\n",
       "  </thead>\n",
       "  <tbody>\n",
       "    <tr>\n",
       "      <th>count</th>\n",
       "      <td>768.000000</td>\n",
       "      <td>768.000000</td>\n",
       "      <td>768.000000</td>\n",
       "      <td>768.000000</td>\n",
       "      <td>768.000000</td>\n",
       "      <td>768.000000</td>\n",
       "      <td>768.000000</td>\n",
       "      <td>768.000000</td>\n",
       "      <td>768.000000</td>\n",
       "    </tr>\n",
       "    <tr>\n",
       "      <th>mean</th>\n",
       "      <td>3.845052</td>\n",
       "      <td>120.894531</td>\n",
       "      <td>69.105469</td>\n",
       "      <td>20.536458</td>\n",
       "      <td>79.799479</td>\n",
       "      <td>31.992578</td>\n",
       "      <td>0.471876</td>\n",
       "      <td>33.240885</td>\n",
       "      <td>0.348958</td>\n",
       "    </tr>\n",
       "    <tr>\n",
       "      <th>std</th>\n",
       "      <td>3.369578</td>\n",
       "      <td>31.972618</td>\n",
       "      <td>19.355807</td>\n",
       "      <td>15.952218</td>\n",
       "      <td>115.244002</td>\n",
       "      <td>7.884160</td>\n",
       "      <td>0.331329</td>\n",
       "      <td>11.760232</td>\n",
       "      <td>0.476951</td>\n",
       "    </tr>\n",
       "    <tr>\n",
       "      <th>min</th>\n",
       "      <td>0.000000</td>\n",
       "      <td>0.000000</td>\n",
       "      <td>0.000000</td>\n",
       "      <td>0.000000</td>\n",
       "      <td>0.000000</td>\n",
       "      <td>0.000000</td>\n",
       "      <td>0.078000</td>\n",
       "      <td>21.000000</td>\n",
       "      <td>0.000000</td>\n",
       "    </tr>\n",
       "    <tr>\n",
       "      <th>25%</th>\n",
       "      <td>1.000000</td>\n",
       "      <td>99.000000</td>\n",
       "      <td>62.000000</td>\n",
       "      <td>0.000000</td>\n",
       "      <td>0.000000</td>\n",
       "      <td>27.300000</td>\n",
       "      <td>0.243750</td>\n",
       "      <td>24.000000</td>\n",
       "      <td>0.000000</td>\n",
       "    </tr>\n",
       "    <tr>\n",
       "      <th>50%</th>\n",
       "      <td>3.000000</td>\n",
       "      <td>117.000000</td>\n",
       "      <td>72.000000</td>\n",
       "      <td>23.000000</td>\n",
       "      <td>30.500000</td>\n",
       "      <td>32.000000</td>\n",
       "      <td>0.372500</td>\n",
       "      <td>29.000000</td>\n",
       "      <td>0.000000</td>\n",
       "    </tr>\n",
       "    <tr>\n",
       "      <th>75%</th>\n",
       "      <td>6.000000</td>\n",
       "      <td>140.250000</td>\n",
       "      <td>80.000000</td>\n",
       "      <td>32.000000</td>\n",
       "      <td>127.250000</td>\n",
       "      <td>36.600000</td>\n",
       "      <td>0.626250</td>\n",
       "      <td>41.000000</td>\n",
       "      <td>1.000000</td>\n",
       "    </tr>\n",
       "    <tr>\n",
       "      <th>max</th>\n",
       "      <td>17.000000</td>\n",
       "      <td>199.000000</td>\n",
       "      <td>122.000000</td>\n",
       "      <td>99.000000</td>\n",
       "      <td>846.000000</td>\n",
       "      <td>67.100000</td>\n",
       "      <td>2.420000</td>\n",
       "      <td>81.000000</td>\n",
       "      <td>1.000000</td>\n",
       "    </tr>\n",
       "  </tbody>\n",
       "</table>\n",
       "</div>"
      ],
      "text/plain": [
       "       Pregnancies     Glucose  BloodPressure  SkinThickness     Insulin  \\\n",
       "count   768.000000  768.000000     768.000000     768.000000  768.000000   \n",
       "mean      3.845052  120.894531      69.105469      20.536458   79.799479   \n",
       "std       3.369578   31.972618      19.355807      15.952218  115.244002   \n",
       "min       0.000000    0.000000       0.000000       0.000000    0.000000   \n",
       "25%       1.000000   99.000000      62.000000       0.000000    0.000000   \n",
       "50%       3.000000  117.000000      72.000000      23.000000   30.500000   \n",
       "75%       6.000000  140.250000      80.000000      32.000000  127.250000   \n",
       "max      17.000000  199.000000     122.000000      99.000000  846.000000   \n",
       "\n",
       "              BMI  DiabetesPedigreeFunction         Age     Outcome  \n",
       "count  768.000000                768.000000  768.000000  768.000000  \n",
       "mean    31.992578                  0.471876   33.240885    0.348958  \n",
       "std      7.884160                  0.331329   11.760232    0.476951  \n",
       "min      0.000000                  0.078000   21.000000    0.000000  \n",
       "25%     27.300000                  0.243750   24.000000    0.000000  \n",
       "50%     32.000000                  0.372500   29.000000    0.000000  \n",
       "75%     36.600000                  0.626250   41.000000    1.000000  \n",
       "max     67.100000                  2.420000   81.000000    1.000000  "
      ]
     },
     "execution_count": 10,
     "metadata": {},
     "output_type": "execute_result"
    }
   ],
   "source": [
    "# Afficher des statistiques descriptives sur les données numériques\n",
    "df.describe()"
   ]
  },
  {
   "cell_type": "markdown",
   "id": "467b654e-99ed-455d-9064-8788a5ec24b8",
   "metadata": {},
   "source": [
    "## 2. Nettoyage des données"
   ]
  },
  {
   "cell_type": "markdown",
   "id": "afbf54f8-a1df-4d2c-800d-c01d064915f7",
   "metadata": {},
   "source": [
    "Vérification sur les données  si elles contiennent des valeurs manquantes,des erreurs..."
   ]
  },
  {
   "cell_type": "markdown",
   "id": "09830d07-d5e7-49da-9720-2ea129adc1d0",
   "metadata": {},
   "source": [
    "#### 2.1 Est ce que le dataset contient des valeurs nulles par colonne( NaN))? "
   ]
  },
  {
   "cell_type": "code",
   "execution_count": 11,
   "id": "6eb86c1d-c3f5-4421-a9ec-fce4d851cc64",
   "metadata": {},
   "outputs": [
    {
     "name": "stdout",
     "output_type": "stream",
     "text": [
      "Pregnancies                 0\n",
      "Glucose                     0\n",
      "BloodPressure               0\n",
      "SkinThickness               0\n",
      "Insulin                     0\n",
      "BMI                         0\n",
      "DiabetesPedigreeFunction    0\n",
      "Age                         0\n",
      "Outcome                     0\n",
      "dtype: int64\n"
     ]
    }
   ],
   "source": [
    "print(df.isnull().sum())"
   ]
  },
  {
   "cell_type": "markdown",
   "id": "c7e87fc8-34aa-4b88-aefd-e3db2f5f3c4a",
   "metadata": {},
   "source": [
    "### 2.2 Nettoyage des valeurs incohérentes"
   ]
  },
  {
   "cell_type": "markdown",
   "id": "c2581bb5-edfb-4e81-be76-124ea77de42f",
   "metadata": {},
   "source": [
    "D'après les réponses précédentes, on remarque qu’il n’y a pas de valeurs manquantes. Cependant, certaines colonnes comme Glucose, BloodPressure, SkinThickness, Insulin et BMI contiennent des zéros, ce qui semble étrange. Dans le contexte des mesures médicales, des valeurs égales à zéro pour ces caractéristiques sont irréalistes. De plus, la colonne Outcome, qui représente le diagnostic (0 ou 1), contient aussi des zéros, ce qui pourrait fausser les résultats si ce n’est pas pris en compte. Il est donc crucial de remplacer ces valeurs suspectes par des valeurs plus réalistes, comme la médiane, pour garantir que notre modèle soit basé sur des données cohérentes et fiables."
   ]
  },
  {
   "cell_type": "code",
   "execution_count": 12,
   "id": "66980456-201e-415b-bf5f-25f57af4309a",
   "metadata": {},
   "outputs": [
    {
     "name": "stdout",
     "output_type": "stream",
     "text": [
      "Nombre de zéros après correction :\n",
      "Glucose          0\n",
      "BloodPressure    0\n",
      "SkinThickness    0\n",
      "Insulin          0\n",
      "BMI              0\n",
      "dtype: int64\n"
     ]
    }
   ],
   "source": [
    "# Les zéros dans ces colonnes sont suspects\n",
    "colonnes_a_corriger = [\"Glucose\", \"BloodPressure\", \"SkinThickness\", \"Insulin\", \"BMI\"]\n",
    "\n",
    "for col in colonnes_a_corriger:\n",
    "    mediane = df[df[col] != 0][col].median() # On calcule la médiane des valeurs non nulles\n",
    "    df[col] = df[col].replace(0, mediane)  # On remplace les zéros par cette médiane (car zéro n'est pas une valeur réaliste ici)\n",
    "\n",
    "\n",
    "print(\"Nombre de zéros après correction :\") # Vérification rapide que les zéros ont bien été remplacés\n",
    "print((df[colonnes_a_corriger] == 0).sum())"
   ]
  },
  {
   "cell_type": "markdown",
   "id": "388bb5df-d5d1-4147-af9f-fb990444b0ed",
   "metadata": {},
   "source": [
    "Maintenant aucune de ces colonnes ne contient la valeur 0"
   ]
  },
  {
   "cell_type": "markdown",
   "id": "73de181b-9e72-4fb1-acb7-317dd672d78a",
   "metadata": {},
   "source": [
    "### 2.3  Vérification des outliers"
   ]
  },
  {
   "cell_type": "code",
   "execution_count": 13,
   "id": "ebf1a75a-94b0-4188-98f4-55a6cf6a4633",
   "metadata": {},
   "outputs": [
    {
     "name": "stdout",
     "output_type": "stream",
     "text": [
      "\n",
      "Outliers pour la colonne 'Pregnancies' :\n",
      "     Pregnancies  Glucose  BloodPressure  SkinThickness  Insulin   BMI  \\\n",
      "88            15      136             70             32      110  37.1   \n",
      "159           17      163             72             41      114  40.9   \n",
      "298           14      100             78             25      184  36.6   \n",
      "455           14      175             62             30      125  33.6   \n",
      "\n",
      "     DiabetesPedigreeFunction  Age  Outcome  \n",
      "88                      0.153   43        1  \n",
      "159                     0.817   47        1  \n",
      "298                     0.412   46        1  \n",
      "455                     0.212   38        1  \n"
     ]
    },
    {
     "data": {
      "image/png": "[encoded data removed]",
      "text/plain": [
       "<Figure size 600x400 with 1 Axes>"
      ]
     },
     "metadata": {},
     "output_type": "display_data"
    },
    {
     "name": "stdout",
     "output_type": "stream",
     "text": [
      "\n",
      "Outliers pour la colonne 'Glucose' :\n",
      "Empty DataFrame\n",
      "Columns: [Pregnancies, Glucose, BloodPressure, SkinThickness, Insulin, BMI, DiabetesPedigreeFunction, Age, Outcome]\n",
      "Index: []\n"
     ]
    },
    {
     "data": {
      "image/png": "[encoded data removed]",
      "text/plain": [
       "<Figure size 600x400 with 1 Axes>"
      ]
     },
     "metadata": {},
     "output_type": "display_data"
    },
    {
     "name": "stdout",
     "output_type": "stream",
     "text": [
      "\n",
      "Outliers pour la colonne 'BloodPressure' :\n",
      "     Pregnancies  Glucose  BloodPressure  SkinThickness  Insulin   BMI  \\\n",
      "18             1      103             30             38       83  43.3   \n",
      "43             9      171            110             24      240  45.4   \n",
      "84             5      137            108             29      125  48.8   \n",
      "106            1       96            122             29      125  22.4   \n",
      "125            1       88             30             42       99  55.0   \n",
      "177            0      129            110             46      130  67.1   \n",
      "362            5      103            108             37      125  39.2   \n",
      "549            4      189            110             31      125  28.5   \n",
      "597            1       89             24             19       25  27.8   \n",
      "599            1      109             38             18      120  23.1   \n",
      "658           11      127            106             29      125  39.0   \n",
      "662            8      167            106             46      231  37.6   \n",
      "672           10       68            106             23       49  35.5   \n",
      "691           13      158            114             29      125  42.3   \n",
      "\n",
      "     DiabetesPedigreeFunction  Age  Outcome  \n",
      "18                      0.183   33        0  \n",
      "43                      0.721   54        1  \n",
      "84                      0.227   37        1  \n",
      "106                     0.207   27        0  \n",
      "125                     0.496   26        1  \n",
      "177                     0.319   26        1  \n",
      "362                     0.305   65        0  \n",
      "549                     0.680   37        0  \n",
      "597                     0.559   21        0  \n",
      "599                     0.407   26        0  \n",
      "658                     0.190   51        0  \n",
      "662                     0.165   43        1  \n",
      "672                     0.285   47        0  \n",
      "691                     0.257   44        1  \n"
     ]
    },
    {
     "data": {
      "image/png": "[encoded data removed]",
      "text/plain": [
       "<Figure size 600x400 with 1 Axes>"
      ]
     },
     "metadata": {},
     "output_type": "display_data"
    },
    {
     "name": "stdout",
     "output_type": "stream",
     "text": [
      "\n",
      "Outliers pour la colonne 'SkinThickness' :\n",
      "     Pregnancies  Glucose  BloodPressure  SkinThickness  Insulin   BMI  \\\n",
      "8              2      197             70             45      543  30.5   \n",
      "16             0      118             84             47      230  45.8   \n",
      "32             3       88             58             11       54  24.8   \n",
      "39             4      111             72             47      207  37.1   \n",
      "50             1      103             80             11       82  19.4   \n",
      "..           ...      ...            ...            ...      ...   ...   \n",
      "698            4      127             88             11      155  34.5   \n",
      "710            3      158             64             13      387  31.2   \n",
      "718            1      108             60             46      178  35.5   \n",
      "753            0      181             88             44      510  43.3   \n",
      "763           10      101             76             48      180  32.9   \n",
      "\n",
      "     DiabetesPedigreeFunction  Age  Outcome  \n",
      "8                       0.158   53        1  \n",
      "16                      0.551   31        1  \n",
      "32                      0.267   22        0  \n",
      "39                      1.390   56        1  \n",
      "50                      0.491   22        0  \n",
      "..                        ...  ...      ...  \n",
      "698                     0.598   28        0  \n",
      "710                     0.295   24        0  \n",
      "718                     0.415   24        0  \n",
      "753                     0.222   26        1  \n",
      "763                     0.171   63        0  \n",
      "\n",
      "[87 rows x 9 columns]\n"
     ]
    },
    {
     "data": {
      "image/png": "[encoded data removed]",
      "text/plain": [
       "<Figure size 600x400 with 1 Axes>"
      ]
     },
     "metadata": {},
     "output_type": "display_data"
    },
    {
     "name": "stdout",
     "output_type": "stream",
     "text": [
      "\n",
      "Outliers pour la colonne 'Insulin' :\n",
      "     Pregnancies  Glucose  BloodPressure  SkinThickness  Insulin   BMI  \\\n",
      "3              1       89             66             23       94  28.1   \n",
      "4              0      137             40             35      168  43.1   \n",
      "6              3       78             50             32       88  31.0   \n",
      "8              2      197             70             45      543  30.5   \n",
      "13             1      189             60             23      846  30.1   \n",
      "..           ...      ...            ...            ...      ...   ...   \n",
      "753            0      181             88             44      510  43.3   \n",
      "755            1      128             88             39      110  36.5   \n",
      "760            2       88             58             26       16  28.4   \n",
      "763           10      101             76             48      180  32.9   \n",
      "765            5      121             72             23      112  26.2   \n",
      "\n",
      "     DiabetesPedigreeFunction  Age  Outcome  \n",
      "3                       0.167   21        0  \n",
      "4                       2.288   33        1  \n",
      "6                       0.248   26        1  \n",
      "8                       0.158   53        1  \n",
      "13                      0.398   59        1  \n",
      "..                        ...  ...      ...  \n",
      "753                     0.222   26        1  \n",
      "755                     1.057   37        1  \n",
      "760                     0.766   22        0  \n",
      "763                     0.171   63        0  \n",
      "765                     0.245   30        0  \n",
      "\n",
      "[346 rows x 9 columns]\n"
     ]
    },
    {
     "data": {
      "image/png": "[encoded data removed]",
      "text/plain": [
       "<Figure size 600x400 with 1 Axes>"
      ]
     },
     "metadata": {},
     "output_type": "display_data"
    },
    {
     "name": "stdout",
     "output_type": "stream",
     "text": [
      "\n",
      "Outliers pour la colonne 'BMI' :\n",
      "     Pregnancies  Glucose  BloodPressure  SkinThickness  Insulin   BMI  \\\n",
      "120            0      162             76             56      100  53.2   \n",
      "125            1       88             30             42       99  55.0   \n",
      "177            0      129            110             46      130  67.1   \n",
      "193           11      135             72             29      125  52.3   \n",
      "247            0      165             90             33      680  52.3   \n",
      "303            5      115             98             29      125  52.9   \n",
      "445            0      180             78             63       14  59.4   \n",
      "673            3      123            100             35      240  57.3   \n",
      "\n",
      "     DiabetesPedigreeFunction  Age  Outcome  \n",
      "120                     0.759   25        1  \n",
      "125                     0.496   26        1  \n",
      "177                     0.319   26        1  \n",
      "193                     0.578   40        1  \n",
      "247                     0.427   23        0  \n",
      "303                     0.209   28        1  \n",
      "445                     2.420   25        1  \n",
      "673                     0.880   22        0  \n"
     ]
    },
    {
     "data": {
      "image/png": "[encoded data removed]",
      "text/plain": [
       "<Figure size 600x400 with 1 Axes>"
      ]
     },
     "metadata": {},
     "output_type": "display_data"
    },
    {
     "name": "stdout",
     "output_type": "stream",
     "text": [
      "\n",
      "Outliers pour la colonne 'DiabetesPedigreeFunction' :\n",
      "     Pregnancies  Glucose  BloodPressure  SkinThickness  Insulin   BMI  \\\n",
      "4              0      137             40             35      168  43.1   \n",
      "12            10      139             80             29      125  27.1   \n",
      "39             4      111             72             47      207  37.1   \n",
      "45             0      180             66             39      125  42.0   \n",
      "58             0      146             82             29      125  40.5   \n",
      "100            1      163             72             29      125  39.0   \n",
      "147            2      106             64             35      119  30.5   \n",
      "187            1      128             98             41       58  32.0   \n",
      "218            5       85             74             22      125  29.0   \n",
      "228            4      197             70             39      744  36.7   \n",
      "243            6      119             50             22      176  27.1   \n",
      "245            9      184             85             15      125  30.0   \n",
      "259           11      155             76             28      150  33.3   \n",
      "292            2      128             78             37      182  43.3   \n",
      "308            0      128             68             19      180  30.5   \n",
      "330            8      118             72             19      125  23.1   \n",
      "370            3      173             82             48      465  38.4   \n",
      "371            0      118             64             23       89  32.3   \n",
      "383            1       90             62             18       59  25.1   \n",
      "395            2      127             58             24      275  27.7   \n",
      "445            0      180             78             63       14  59.4   \n",
      "534            1       77             56             30       56  33.3   \n",
      "593            2       82             52             22      115  28.5   \n",
      "606            1      181             78             42      293  40.0   \n",
      "618            9      112             82             24      125  28.2   \n",
      "621            2       92             76             20      125  24.2   \n",
      "622            6      183             94             29      125  40.8   \n",
      "659            3       80             82             31       70  34.2   \n",
      "661            1      199             76             43      125  42.9   \n",
      "\n",
      "     DiabetesPedigreeFunction  Age  Outcome  \n",
      "4                       2.288   33        1  \n",
      "12                      1.441   57        0  \n",
      "39                      1.390   56        1  \n",
      "45                      1.893   25        1  \n",
      "58                      1.781   44        0  \n",
      "100                     1.222   33        1  \n",
      "147                     1.400   34        0  \n",
      "187                     1.321   33        1  \n",
      "218                     1.224   32        1  \n",
      "228                     2.329   31        0  \n",
      "243                     1.318   33        1  \n",
      "245                     1.213   49        1  \n",
      "259                     1.353   51        1  \n",
      "292                     1.224   31        1  \n",
      "308                     1.391   25        1  \n",
      "330                     1.476   46        0  \n",
      "370                     2.137   25        1  \n",
      "371                     1.731   21        0  \n",
      "383                     1.268   25        0  \n",
      "395                     1.600   25        0  \n",
      "445                     2.420   25        1  \n",
      "534                     1.251   24        0  \n",
      "593                     1.699   25        0  \n",
      "606                     1.258   22        1  \n",
      "618                     1.282   50        1  \n",
      "621                     1.698   28        0  \n",
      "622                     1.461   45        0  \n",
      "659                     1.292   27        1  \n",
      "661                     1.394   22        1  \n"
     ]
    },
    {
     "data": {
      "image/png": "[encoded data removed]",
      "text/plain": [
       "<Figure size 600x400 with 1 Axes>"
      ]
     },
     "metadata": {},
     "output_type": "display_data"
    },
    {
     "name": "stdout",
     "output_type": "stream",
     "text": [
      "\n",
      "Outliers pour la colonne 'Age' :\n",
      "     Pregnancies  Glucose  BloodPressure  SkinThickness  Insulin   BMI  \\\n",
      "123            5      132             80             29      125  26.8   \n",
      "363            4      146             78             29      125  38.5   \n",
      "453            2      119             72             29      125  19.6   \n",
      "459            9      134             74             33       60  25.9   \n",
      "489            8      194             80             29      125  26.1   \n",
      "537            0       57             60             29      125  21.7   \n",
      "666            4      145             82             18      125  32.5   \n",
      "674            8       91             82             29      125  35.6   \n",
      "684            5      136             82             29      125  32.3   \n",
      "\n",
      "     DiabetesPedigreeFunction  Age  Outcome  \n",
      "123                     0.186   69        0  \n",
      "363                     0.520   67        1  \n",
      "453                     0.832   72        0  \n",
      "459                     0.460   81        0  \n",
      "489                     0.551   67        0  \n",
      "537                     0.735   67        0  \n",
      "666                     0.235   70        1  \n",
      "674                     0.587   68        0  \n",
      "684                     0.640   69        0  \n"
     ]
    },
    {
     "data": {
      "image/png": "[encoded data removed]",
      "text/plain": [
       "<Figure size 600x400 with 1 Axes>"
      ]
     },
     "metadata": {},
     "output_type": "display_data"
    },
    {
     "name": "stdout",
     "output_type": "stream",
     "text": [
      "\n",
      "Outliers pour la colonne 'Outcome' :\n",
      "Empty DataFrame\n",
      "Columns: [Pregnancies, Glucose, BloodPressure, SkinThickness, Insulin, BMI, DiabetesPedigreeFunction, Age, Outcome]\n",
      "Index: []\n"
     ]
    },
    {
     "data": {
      "image/png": "[encoded data removed]",
      "text/plain": [
       "<Figure size 600x400 with 1 Axes>"
      ]
     },
     "metadata": {},
     "output_type": "display_data"
    }
   ],
   "source": [
    "# Liste des colonnes à vérifier pour les outliers\n",
    "varlist = ['Pregnancies', 'Glucose', 'BloodPressure', 'SkinThickness', 'Insulin', 'BMI', 'DiabetesPedigreeFunction', 'Age', 'Outcome']\n",
    "\n",
    "# Détection des outliers avec la méthode IQR (Interquartile Range)\n",
    "for col in varlist:\n",
    "    # Calcul des quartiles Q1 et Q3\n",
    "    Q1 = df[col].quantile(0.25)\n",
    "    Q3 = df[col].quantile(0.75)\n",
    "    \n",
    "    # Calcul de l'IQR (Interquartile Range)\n",
    "    IQR = Q3 - Q1\n",
    "    \n",
    "    # Calcul des bornes inférieure et supérieure\n",
    "    lower_bound = Q1 - 1.5 * IQR\n",
    "    upper_bound = Q3 + 1.5 * IQR\n",
    "    \n",
    "    # Détection des outliers : valeurs en dehors des bornes\n",
    "    outliers = df[(df[col] < lower_bound) | (df[col] > upper_bound)]\n",
    "    \n",
    "    # Affichage des résultats\n",
    "    print(f\"\\nOutliers pour la colonne '{col}' :\")\n",
    "    print(outliers)\n",
    "    \n",
    "    # Afficher un boxplot pour visualiser les outliers\n",
    "    plt.figure(figsize=(6, 4))\n",
    "    plt.boxplot(df[col])\n",
    "    plt.title(f'Boxplot pour la colonne {col}')\n",
    "    plt.show()"
   ]
  },
  {
   "cell_type": "markdown",
   "id": "2ce1084c-2f31-483e-9445-35b2403a2d55",
   "metadata": {},
   "source": [
    "il y a des valeurs aberrantes dans plusieurs colonnes comme SkinThickness, Insulin, BMI, DiabetesPedigreeFunction, et Age. Pour les valeurs de Outcome, il n’y a pas de valeurs aberrantes."
   ]
  },
  {
   "cell_type": "markdown",
   "id": "b10d4d95-45c7-4389-879e-f4747c959f29",
   "metadata": {},
   "source": [
    "### 2.3.1 Vérification si ces outliers sont significatifs ou pas"
   ]
  },
  {
   "cell_type": "code",
   "execution_count": 26,
   "id": "86057781-d7a5-49f3-9cee-3d7750a39b12",
   "metadata": {},
   "outputs": [],
   "source": [
    "from sklearn.model_selection import train_test_split, cross_val_score\n",
    "from sklearn.linear_model import LogisticRegression\n",
    "from sklearn.ensemble import RandomForestClassifier\n",
    "from sklearn.metrics import accuracy_score, classification_report, confusion_matrix"
   ]
  },
  {
   "cell_type": "code",
   "execution_count": 30,
   "id": "7d26077e-d727-472c-8c33-2ad430ced7c5",
   "metadata": {},
   "outputs": [
    {
     "name": "stdout",
     "output_type": "stream",
     "text": [
      "Validation croisée avec outliers : 0.7722\n",
      "Validation croisée sans outliers : 0.7441\n"
     ]
    }
   ],
   "source": [
    "X = df.drop('Outcome', axis=1)\n",
    "Y = df['Outcome']\n",
    "\n",
    "# Création d'une copie du DataFrame sans outliers\n",
    "df_no_outliers = df.copy()\n",
    "for col in varlist[:-1]:  # On exclut 'Outcome'\n",
    "    Q1 = df_no_outliers[col].quantile(0.25)\n",
    "    Q3 = df_no_outliers[col].quantile(0.75)\n",
    "    IQR = Q3 - Q1\n",
    "    lower = Q1 - 1.5 * IQR\n",
    "    upper = Q3 + 1.5 * IQR\n",
    "    df_no_outliers = df_no_outliers[(df_no_outliers[col] >= lower) & (df_no_outliers[col] <= upper)]\n",
    "\n",
    "X_no_outliers = df_no_outliers.drop('Outcome', axis=1)\n",
    "Y_no_outliers = df_no_outliers['Outcome']\n",
    "\n",
    "\n",
    "# Validation croisée\n",
    "score_avec = cross_val_score(LogisticRegression(max_iter=10000), X, Y, cv=5).mean()\n",
    "score_sans = cross_val_score(LogisticRegression(max_iter=10000), X_no_outliers, Y_no_outliers, cv=5).mean()\n",
    "\n",
    "print(\"Validation croisée avec outliers :\", round(score_avec, 4))\n",
    "print(\"Validation croisée sans outliers :\", round(score_sans, 4))"
   ]
  },
  {
   "cell_type": "markdown",
   "id": "a7caa3f7-ae33-4301-9063-90b6204fceb3",
   "metadata": {},
   "source": [
    "La validation croisée sans outliers est légèrement inférieure à celle avec les outliers. \n",
    "il semble que les outliers n’ont pas d’impact significatif sur les résultats."
   ]
  },
  {
   "cell_type": "markdown",
   "id": "07399773-2d1f-4b05-b0b1-674bfc57bd76",
   "metadata": {},
   "source": [
    "# 3. Entraînement du modèle de machine learning"
   ]
  },
  {
   "cell_type": "markdown",
   "id": "a137b559-caf9-48e0-9046-27954f965ccd",
   "metadata": {},
   "source": [
    "Je veux entraîner un modèle de machine learning avec les données du diabète. J’ai déjà nettoyé les données, j’ai décidé de garder les outliers car ils ne nuisent pas vraiment aux performances. Maintenant, je passe à l’entraînement."
   ]
  },
  {
   "cell_type": "code",
   "execution_count": 31,
   "id": "5004fbd4-1bd4-40c5-8144-fe362ee6ee22",
   "metadata": {},
   "outputs": [],
   "source": [
    "# Je divise les données en un ensemble d’entraînement(80%) et un ensemble de test(20%) \n",
    "X_train, X_test, y_train, y_test = train_test_split(X, y, test_size=0.2, random_state=42)\n"
   ]
  },
  {
   "cell_type": "code",
   "execution_count": 32,
   "id": "415832ec-4622-4baa-a763-88654ccaa65a",
   "metadata": {},
   "outputs": [],
   "source": [
    "# Puis je choisi un modèle de classification  pour l’instant, je pars sur un RandomForestClassifier\n",
    "model = RandomForestClassifier(random_state=42)"
   ]
  },
  {
   "cell_type": "code",
   "execution_count": 33,
   "id": "476e2982-699e-48b4-8ade-de2c0839a135",
   "metadata": {},
   "outputs": [
    {
     "data": {
      "text/html": [
       "<style>#sk-container-id-1 {color: black;background-color: white;}#sk-container-id-1 pre{padding: 0;}#sk-container-id-1 div.sk-toggleable {background-color: white;}#sk-container-id-1 label.sk-toggleable__label {cursor: pointer;display: block;width: 100%;margin-bottom: 0;padding: 0.3em;box-sizing: border-box;text-align: center;}#sk-container-id-1 label.sk-toggleable__label-arrow:before {content: \"▸\";float: left;margin-right: 0.25em;color: #696969;}#sk-container-id-1 label.sk-toggleable__label-arrow:hover:before {color: black;}#sk-container-id-1 div.sk-estimator:hover label.sk-toggleable__label-arrow:before {color: black;}#sk-container-id-1 div.sk-toggleable__content {max-height: 0;max-width: 0;overflow: hidden;text-align: left;background-color: #f0f8ff;}#sk-container-id-1 div.sk-toggleable__content pre {margin: 0.2em;color: black;border-radius: 0.25em;background-color: #f0f8ff;}#sk-container-id-1 input.sk-toggleable__control:checked~div.sk-toggleable__content {max-height: 200px;max-width: 100%;overflow: auto;}#sk-container-id-1 input.sk-toggleable__control:checked~label.sk-toggleable__label-arrow:before {content: \"▾\";}#sk-container-id-1 div.sk-estimator input.sk-toggleable__control:checked~label.sk-toggleable__label {background-color: #d4ebff;}#sk-container-id-1 div.sk-label input.sk-toggleable__control:checked~label.sk-toggleable__label {background-color: #d4ebff;}#sk-container-id-1 input.sk-hidden--visually {border: 0;clip: rect(1px 1px 1px 1px);clip: rect(1px, 1px, 1px, 1px);height: 1px;margin: -1px;overflow: hidden;padding: 0;position: absolute;width: 1px;}#sk-container-id-1 div.sk-estimator {font-family: monospace;background-color: #f0f8ff;border: 1px dotted black;border-radius: 0.25em;box-sizing: border-box;margin-bottom: 0.5em;}#sk-container-id-1 div.sk-estimator:hover {background-color: #d4ebff;}#sk-container-id-1 div.sk-parallel-item::after {content: \"\";width: 100%;border-bottom: 1px solid gray;flex-grow: 1;}#sk-container-id-1 div.sk-label:hover label.sk-toggleable__label {background-color: #d4ebff;}#sk-container-id-1 div.sk-serial::before {content: \"\";position: absolute;border-left: 1px solid gray;box-sizing: border-box;top: 0;bottom: 0;left: 50%;z-index: 0;}#sk-container-id-1 div.sk-serial {display: flex;flex-direction: column;align-items: center;background-color: white;padding-right: 0.2em;padding-left: 0.2em;position: relative;}#sk-container-id-1 div.sk-item {position: relative;z-index: 1;}#sk-container-id-1 div.sk-parallel {display: flex;align-items: stretch;justify-content: center;background-color: white;position: relative;}#sk-container-id-1 div.sk-item::before, #sk-container-id-1 div.sk-parallel-item::before {content: \"\";position: absolute;border-left: 1px solid gray;box-sizing: border-box;top: 0;bottom: 0;left: 50%;z-index: -1;}#sk-container-id-1 div.sk-parallel-item {display: flex;flex-direction: column;z-index: 1;position: relative;background-color: white;}#sk-container-id-1 div.sk-parallel-item:first-child::after {align-self: flex-end;width: 50%;}#sk-container-id-1 div.sk-parallel-item:last-child::after {align-self: flex-start;width: 50%;}#sk-container-id-1 div.sk-parallel-item:only-child::after {width: 0;}#sk-container-id-1 div.sk-dashed-wrapped {border: 1px dashed gray;margin: 0 0.4em 0.5em 0.4em;box-sizing: border-box;padding-bottom: 0.4em;background-color: white;}#sk-container-id-1 div.sk-label label {font-family: monospace;font-weight: bold;display: inline-block;line-height: 1.2em;}#sk-container-id-1 div.sk-label-container {text-align: center;}#sk-container-id-1 div.sk-container {/* jupyter's `normalize.less` sets `[hidden] { display: none; }` but bootstrap.min.css set `[hidden] { display: none !important; }` so we also need the `!important` here to be able to override the default hidden behavior on the sphinx rendered scikit-learn.org. See: https://github.com/scikit-learn/scikit-learn/issues/21755 */display: inline-block !important;position: relative;}#sk-container-id-1 div.sk-text-repr-fallback {display: none;}</style><div id=\"sk-container-id-1\" class=\"sk-top-container\"><div class=\"sk-text-repr-fallback\"><pre>RandomForestClassifier(random_state=42)</pre><b>In a Jupyter environment, please rerun this cell to show the HTML representation or trust the notebook. <br />On GitHub, the HTML representation is unable to render, please try loading this page with nbviewer.org.</b></div><div class=\"sk-container\" hidden><div class=\"sk-item\"><div class=\"sk-estimator sk-toggleable\"><input class=\"sk-toggleable__control sk-hidden--visually\" id=\"sk-estimator-id-1\" type=\"checkbox\" checked><label for=\"sk-estimator-id-1\" class=\"sk-toggleable__label sk-toggleable__label-arrow\">RandomForestClassifier</label><div class=\"sk-toggleable__content\"><pre>RandomForestClassifier(random_state=42)</pre></div></div></div></div></div>"
      ],
      "text/plain": [
       "RandomForestClassifier(random_state=42)"
      ]
     },
     "execution_count": 33,
     "metadata": {},
     "output_type": "execute_result"
    }
   ],
   "source": [
    "# Je l'entraîne avec les données d'entraînement\n",
    "model.fit(X_train, y_train)\t"
   ]
  },
  {
   "cell_type": "code",
   "execution_count": 34,
   "id": "6c1d3ae6-8e8b-42e9-b885-ba3e8f41a907",
   "metadata": {},
   "outputs": [
    {
     "name": "stdout",
     "output_type": "stream",
     "text": [
      "Accuracy : 0.7467532467532467\n",
      "Matrice de confusion :\n",
      " [[78 21]\n",
      " [18 37]]\n",
      "Rapport :\n",
      "               precision    recall  f1-score   support\n",
      "\n",
      "           0       0.81      0.79      0.80        99\n",
      "           1       0.64      0.67      0.65        55\n",
      "\n",
      "    accuracy                           0.75       154\n",
      "   macro avg       0.73      0.73      0.73       154\n",
      "weighted avg       0.75      0.75      0.75       154\n",
      "\n"
     ]
    }
   ],
   "source": [
    "# J'évalue sa performance sur les données de test (accuracy, matrice de confusion…)\n",
    "from sklearn.metrics import accuracy_score, confusion_matrix, classification_report\n",
    "\n",
    "# Je fais les prédictions\n",
    "y_pred = model.predict(X_test)\n",
    "\n",
    "# Je mesure la performance\n",
    "accuracy = accuracy_score(y_test, y_pred)\n",
    "print(\"Accuracy :\", accuracy)\n",
    "\n",
    "# Matrice de confusion pour voir les erreurs\n",
    "print(\"Matrice de confusion :\\n\", confusion_matrix(y_test, y_pred))\n",
    "\n",
    "# Rapport de classification\n",
    "print(\"Rapport :\\n\", classification_report(y_test, y_pred))"
   ]
  },
  {
   "cell_type": "markdown",
   "id": "eae19e9a-86b0-4b1a-8fe5-d6b4cff7ba53",
   "metadata": {},
   "source": [
    "- Accuracy globale : Environ 75%\n",
    "- Classe 0 (pas diabétique) et Classe 1 (diabétique) \n",
    "Le modèle a bien appris à partir des données. Il est capable de prédire correctement 75% des cas, ce qui est un bon début. Cependant, on remarque que les prédictions pour la classe ‘1’ (diabétiques) sont un peu moins précises, avec une précision de 64%. On pourrait améliorer ça en ajustant les paramètres du modèle ou en explorant d’autres modèles. "
   ]
  },
  {
   "cell_type": "markdown",
   "id": "b3d1f459-684a-4eac-8468-e703f1e66e8c",
   "metadata": {},
   "source": [
    "# 4. Sauvegarde du modèle"
   ]
  },
  {
   "cell_type": "code",
   "execution_count": 35,
   "id": "a85dcd3e-964b-4dff-8f10-c3da7bdd7f50",
   "metadata": {},
   "outputs": [
    {
     "data": {
      "text/plain": [
       "['diabetes_model.pkl']"
      ]
     },
     "execution_count": 35,
     "metadata": {},
     "output_type": "execute_result"
    }
   ],
   "source": [
    "import joblib\n",
    "joblib.dump(model, 'diabetes_model.pkl') # sauvegarde du modèle"
   ]
  },
  {
   "cell_type": "code",
   "execution_count": null,
   "id": "f2dc9f5c-ead6-4f3d-a385-95ec82510d72",
   "metadata": {},
   "outputs": [],
   "source": []
  },
  {
   "cell_type": "code",
   "execution_count": null,
   "id": "ee3b7cef-2ecc-42a0-a476-793d93cb7a4d",
   "metadata": {},
   "outputs": [],
   "source": []
  }
 ],
 "metadata": {
  "kernelspec": {
   "display_name": "Python 3 (ipykernel)",
   "language": "python",
   "name": "python3"
  },
  "language_info": {
   "codemirror_mode": {
    "name": "ipython",
    "version": 3
   },
   "file_extension": ".py",
   "mimetype": "text/x-python",
   "name": "python",
   "nbconvert_exporter": "python",
   "pygments_lexer": "ipython3",
   "version": "3.11.7"
  }
 },
 "nbformat": 4,
 "nbformat_minor": 5
}
